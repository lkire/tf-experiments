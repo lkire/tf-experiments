{
 "cells": [
  {
   "cell_type": "code",
   "execution_count": 1,
   "metadata": {},
   "outputs": [
    {
     "name": "stderr",
     "output_type": "stream",
     "text": [
      "/home/alkire/miniconda3/lib/python3.6/site-packages/h5py/__init__.py:36: FutureWarning: Conversion of the second argument of issubdtype from `float` to `np.floating` is deprecated. In future, it will be treated as `np.float64 == np.dtype(float).type`.\n",
      "  from ._conv import register_converters as _register_converters\n"
     ]
    },
    {
     "name": "stdout",
     "output_type": "stream",
     "text": [
      "1.12.0\n"
     ]
    }
   ],
   "source": [
    "import tensorflow as tf\n",
    "from tensorflow import keras\n",
    "\n",
    "import numpy as np\n",
    "import matplotlib.pyplot as plt\n",
    "\n",
    "print(tf.__version__)"
   ]
  },
  {
   "cell_type": "code",
   "execution_count": 2,
   "metadata": {},
   "outputs": [],
   "source": [
    "NUM_WORDS = 10000\n",
    "\n",
    "(train_data, train_labels), (test_data, test_labels) = keras.datasets.imdb.load_data(num_words=NUM_WORDS)\n",
    "\n",
    "def multi_hot_sequences(sequences, dimension):\n",
    "    # Create an all-zero matrix of shape (len(sequences), dimension)\n",
    "    results = np.zeros((len(sequences), dimension))\n",
    "    for i, word_indices in enumerate(sequences):\n",
    "        results[i, word_indices] = 1.0  # set specific indices of results[i] to 1s\n",
    "    return results\n",
    "\n",
    "\n",
    "train_data = multi_hot_sequences(train_data, dimension=NUM_WORDS)\n",
    "test_data = multi_hot_sequences(test_data, dimension=NUM_WORDS)"
   ]
  },
  {
   "cell_type": "code",
   "execution_count": 3,
   "metadata": {},
   "outputs": [
    {
     "data": {
      "text/plain": [
       "[<matplotlib.lines.Line2D at 0x7fa16ee88c50>]"
      ]
     },
     "execution_count": 3,
     "metadata": {},
     "output_type": "execute_result"
    },
    {
     "data": {
      "image/png": "[encoded data removed]",
      "text/plain": [
       "<Figure size 432x288 with 1 Axes>"
      ]
     },
     "metadata": {
      "needs_background": "light"
     },
     "output_type": "display_data"
    }
   ],
   "source": [
    "plt.plot(train_data[0])\n"
   ]
  },
  {
   "cell_type": "code",
   "execution_count": 4,
   "metadata": {},
   "outputs": [
    {
     "name": "stdout",
     "output_type": "stream",
     "text": [
      "_________________________________________________________________\n",
      "Layer (type)                 Output Shape              Param #   \n",
      "=================================================================\n",
      "dense (Dense)                (None, 16)                160016    \n",
      "_________________________________________________________________\n",
      "dense_1 (Dense)              (None, 16)                272       \n",
      "_________________________________________________________________\n",
      "dense_2 (Dense)              (None, 1)                 17        \n",
      "=================================================================\n",
      "Total params: 160,305\n",
      "Trainable params: 160,305\n",
      "Non-trainable params: 0\n",
      "_________________________________________________________________\n"
     ]
    }
   ],
   "source": [
    "baseline_model = keras.Sequential([\n",
    "    # `input_shape` is only required here so that `.summary` works. \n",
    "    keras.layers.Dense(16, activation=tf.nn.relu, input_shape=(NUM_WORDS,)),\n",
    "    keras.layers.Dense(16, activation=tf.nn.relu),\n",
    "    keras.layers.Dense(1, activation=tf.nn.sigmoid)\n",
    "])\n",
    "\n",
    "baseline_model.compile(optimizer='adam',\n",
    "                       loss='binary_crossentropy',\n",
    "                       metrics=['accuracy', 'binary_crossentropy'])\n",
    "\n",
    "baseline_model.summary()"
   ]
  },
  {
   "cell_type": "code",
   "execution_count": 5,
   "metadata": {},
   "outputs": [
    {
     "name": "stdout",
     "output_type": "stream",
     "text": [
      "Train on 25000 samples, validate on 25000 samples\n",
      "Epoch 1/20\n",
      "25000/25000 [==============================] - 3s 122us/step - loss: 0.4740 - acc: 0.8012 - binary_crossentropy: 0.4740 - val_loss: 0.3265 - val_acc: 0.8785 - val_binary_crossentropy: 0.3265\n",
      "Epoch 2/20\n",
      "25000/25000 [==============================] - 2s 91us/step - loss: 0.2414 - acc: 0.9117 - binary_crossentropy: 0.2414 - val_loss: 0.2835 - val_acc: 0.8874 - val_binary_crossentropy: 0.2835\n",
      "Epoch 3/20\n",
      "25000/25000 [==============================] - 2s 90us/step - loss: 0.1796 - acc: 0.9374 - binary_crossentropy: 0.1796 - val_loss: 0.2898 - val_acc: 0.8850 - val_binary_crossentropy: 0.2898\n",
      "Epoch 4/20\n",
      "25000/25000 [==============================] - 2s 90us/step - loss: 0.1447 - acc: 0.9508 - binary_crossentropy: 0.1447 - val_loss: 0.3151 - val_acc: 0.8793 - val_binary_crossentropy: 0.3151\n",
      "Epoch 5/20\n",
      "25000/25000 [==============================] - 2s 91us/step - loss: 0.1207 - acc: 0.9599 - binary_crossentropy: 0.1207 - val_loss: 0.3411 - val_acc: 0.8748 - val_binary_crossentropy: 0.3411\n",
      "Epoch 6/20\n",
      "25000/25000 [==============================] - 2s 89us/step - loss: 0.1006 - acc: 0.9682 - binary_crossentropy: 0.1006 - val_loss: 0.3715 - val_acc: 0.8704 - val_binary_crossentropy: 0.3715\n",
      "Epoch 7/20\n",
      "25000/25000 [==============================] - 2s 89us/step - loss: 0.0842 - acc: 0.9752 - binary_crossentropy: 0.0842 - val_loss: 0.4253 - val_acc: 0.8610 - val_binary_crossentropy: 0.4253\n",
      "Epoch 8/20\n",
      "25000/25000 [==============================] - 2s 93us/step - loss: 0.0708 - acc: 0.9802 - binary_crossentropy: 0.0708 - val_loss: 0.4496 - val_acc: 0.8635 - val_binary_crossentropy: 0.4496\n",
      "Epoch 9/20\n",
      "25000/25000 [==============================] - 2s 91us/step - loss: 0.0577 - acc: 0.9862 - binary_crossentropy: 0.0577 - val_loss: 0.4918 - val_acc: 0.8604 - val_binary_crossentropy: 0.4918\n",
      "Epoch 10/20\n",
      "25000/25000 [==============================] - 2s 90us/step - loss: 0.0457 - acc: 0.9902 - binary_crossentropy: 0.0457 - val_loss: 0.5390 - val_acc: 0.8557 - val_binary_crossentropy: 0.5390\n",
      "Epoch 11/20\n",
      "25000/25000 [==============================] - 2s 88us/step - loss: 0.0359 - acc: 0.9928 - binary_crossentropy: 0.0359 - val_loss: 0.5789 - val_acc: 0.8555 - val_binary_crossentropy: 0.5789\n",
      "Epoch 12/20\n",
      "25000/25000 [==============================] - 2s 91us/step - loss: 0.0266 - acc: 0.9960 - binary_crossentropy: 0.0266 - val_loss: 0.6227 - val_acc: 0.8536 - val_binary_crossentropy: 0.6227\n",
      "Epoch 13/20\n",
      "25000/25000 [==============================] - 2s 91us/step - loss: 0.0196 - acc: 0.9974 - binary_crossentropy: 0.0196 - val_loss: 0.6662 - val_acc: 0.8524 - val_binary_crossentropy: 0.6662\n",
      "Epoch 14/20\n",
      "25000/25000 [==============================] - 2s 88us/step - loss: 0.0142 - acc: 0.9991 - binary_crossentropy: 0.0142 - val_loss: 0.7026 - val_acc: 0.8515 - val_binary_crossentropy: 0.7026\n",
      "Epoch 15/20\n",
      "25000/25000 [==============================] - 2s 88us/step - loss: 0.0104 - acc: 0.9997 - binary_crossentropy: 0.0104 - val_loss: 0.7384 - val_acc: 0.8518 - val_binary_crossentropy: 0.7384\n",
      "Epoch 16/20\n",
      "25000/25000 [==============================] - 2s 89us/step - loss: 0.0079 - acc: 0.9997 - binary_crossentropy: 0.0079 - val_loss: 0.7702 - val_acc: 0.8507 - val_binary_crossentropy: 0.7702\n",
      "Epoch 17/20\n",
      "25000/25000 [==============================] - 2s 90us/step - loss: 0.0061 - acc: 1.0000 - binary_crossentropy: 0.0061 - val_loss: 0.7973 - val_acc: 0.8515 - val_binary_crossentropy: 0.7973\n",
      "Epoch 18/20\n",
      "25000/25000 [==============================] - 2s 92us/step - loss: 0.0049 - acc: 1.0000 - binary_crossentropy: 0.0049 - val_loss: 0.8254 - val_acc: 0.8503 - val_binary_crossentropy: 0.8254\n",
      "Epoch 19/20\n",
      "25000/25000 [==============================] - 2s 90us/step - loss: 0.0039 - acc: 1.0000 - binary_crossentropy: 0.0039 - val_loss: 0.8447 - val_acc: 0.8515 - val_binary_crossentropy: 0.8447\n",
      "Epoch 20/20\n",
      "25000/25000 [==============================] - 2s 92us/step - loss: 0.0032 - acc: 1.0000 - binary_crossentropy: 0.0032 - val_loss: 0.8679 - val_acc: 0.8503 - val_binary_crossentropy: 0.8679\n"
     ]
    }
   ],
   "source": [
    "baseline_history = baseline_model.fit(train_data,\n",
    "                                      train_labels,\n",
    "                                      epochs=20,\n",
    "                                      batch_size=512,\n",
    "                                      validation_data=(test_data, test_labels)\n",
    "                                     )"
   ]
  },
  {
   "cell_type": "code",
   "execution_count": 4,
   "metadata": {},
   "outputs": [
    {
     "name": "stdout",
     "output_type": "stream",
     "text": [
      "_________________________________________________________________\n",
      "Layer (type)                 Output Shape              Param #   \n",
      "=================================================================\n",
      "dense (Dense)                (None, 4)                 40004     \n",
      "_________________________________________________________________\n",
      "dense_1 (Dense)              (None, 4)                 20        \n",
      "_________________________________________________________________\n",
      "dense_2 (Dense)              (None, 1)                 5         \n",
      "=================================================================\n",
      "Total params: 40,029\n",
      "Trainable params: 40,029\n",
      "Non-trainable params: 0\n",
      "_________________________________________________________________\n"
     ]
    }
   ],
   "source": [
    "smaller_model = keras.Sequential([\n",
    "    keras.layers.Dense(4, activation=tf.nn.relu, input_shape=(NUM_WORDS,)),\n",
    "    keras.layers.Dense(4, activation=tf.nn.relu),\n",
    "    keras.layers.Dense(1, activation=tf.nn.sigmoid)\n",
    "])\n",
    "\n",
    "smaller_model.compile(optimizer='adam',\n",
    "                loss='binary_crossentropy',\n",
    "                metrics=['accuracy', 'binary_crossentropy'])\n",
    "\n",
    "smaller_model.summary()"
   ]
  },
  {
   "cell_type": "code",
   "execution_count": 5,
   "metadata": {},
   "outputs": [
    {
     "name": "stdout",
     "output_type": "stream",
     "text": [
      "Train on 25000 samples, validate on 25000 samples\n",
      "Epoch 1/20\n",
      " - 3s - loss: 0.6456 - acc: 0.6330 - binary_crossentropy: 0.6456 - val_loss: 0.5993 - val_acc: 0.7562 - val_binary_crossentropy: 0.5993\n",
      "Epoch 2/20\n",
      " - 2s - loss: 0.5511 - acc: 0.7816 - binary_crossentropy: 0.5511 - val_loss: 0.5368 - val_acc: 0.7836 - val_binary_crossentropy: 0.5368\n",
      "Epoch 3/20\n",
      " - 2s - loss: 0.4915 - acc: 0.8433 - binary_crossentropy: 0.4915 - val_loss: 0.4962 - val_acc: 0.8471 - val_binary_crossentropy: 0.4962\n",
      "Epoch 4/20\n",
      " - 2s - loss: 0.4492 - acc: 0.8805 - binary_crossentropy: 0.4492 - val_loss: 0.4693 - val_acc: 0.8567 - val_binary_crossentropy: 0.4693\n",
      "Epoch 5/20\n",
      " - 2s - loss: 0.4162 - acc: 0.9028 - binary_crossentropy: 0.4162 - val_loss: 0.4530 - val_acc: 0.8579 - val_binary_crossentropy: 0.4530\n",
      "Epoch 6/20\n",
      " - 2s - loss: 0.3892 - acc: 0.9180 - binary_crossentropy: 0.3892 - val_loss: 0.4365 - val_acc: 0.8737 - val_binary_crossentropy: 0.4365\n",
      "Epoch 7/20\n",
      " - 2s - loss: 0.3666 - acc: 0.9282 - binary_crossentropy: 0.3666 - val_loss: 0.4260 - val_acc: 0.8769 - val_binary_crossentropy: 0.4260\n",
      "Epoch 8/20\n",
      " - 2s - loss: 0.3460 - acc: 0.9384 - binary_crossentropy: 0.3460 - val_loss: 0.4182 - val_acc: 0.8800 - val_binary_crossentropy: 0.4182\n",
      "Epoch 9/20\n",
      " - 2s - loss: 0.3269 - acc: 0.9466 - binary_crossentropy: 0.3269 - val_loss: 0.4129 - val_acc: 0.8802 - val_binary_crossentropy: 0.4129\n",
      "Epoch 10/20\n",
      " - 2s - loss: 0.3101 - acc: 0.9533 - binary_crossentropy: 0.3101 - val_loss: 0.4090 - val_acc: 0.8797 - val_binary_crossentropy: 0.4090\n",
      "Epoch 11/20\n",
      " - 2s - loss: 0.2947 - acc: 0.9581 - binary_crossentropy: 0.2947 - val_loss: 0.4081 - val_acc: 0.8774 - val_binary_crossentropy: 0.4081\n",
      "Epoch 12/20\n",
      " - 2s - loss: 0.2803 - acc: 0.9624 - binary_crossentropy: 0.2803 - val_loss: 0.4090 - val_acc: 0.8767 - val_binary_crossentropy: 0.4090\n",
      "Epoch 13/20\n",
      " - 2s - loss: 0.2668 - acc: 0.9670 - binary_crossentropy: 0.2668 - val_loss: 0.4050 - val_acc: 0.8768 - val_binary_crossentropy: 0.4050\n",
      "Epoch 14/20\n",
      " - 2s - loss: 0.2544 - acc: 0.9702 - binary_crossentropy: 0.2544 - val_loss: 0.4030 - val_acc: 0.8765 - val_binary_crossentropy: 0.4030\n",
      "Epoch 15/20\n",
      " - 2s - loss: 0.2427 - acc: 0.9734 - binary_crossentropy: 0.2427 - val_loss: 0.4093 - val_acc: 0.8742 - val_binary_crossentropy: 0.4093\n",
      "Epoch 16/20\n",
      " - 2s - loss: 0.2319 - acc: 0.9758 - binary_crossentropy: 0.2319 - val_loss: 0.4105 - val_acc: 0.8734 - val_binary_crossentropy: 0.4105\n",
      "Epoch 17/20\n",
      " - 2s - loss: 0.2217 - acc: 0.9783 - binary_crossentropy: 0.2217 - val_loss: 0.4198 - val_acc: 0.8720 - val_binary_crossentropy: 0.4198\n",
      "Epoch 18/20\n",
      " - 2s - loss: 0.2122 - acc: 0.9802 - binary_crossentropy: 0.2122 - val_loss: 0.4201 - val_acc: 0.8710 - val_binary_crossentropy: 0.4201\n",
      "Epoch 19/20\n",
      " - 2s - loss: 0.2027 - acc: 0.9820 - binary_crossentropy: 0.2027 - val_loss: 0.4302 - val_acc: 0.8695 - val_binary_crossentropy: 0.4302\n",
      "Epoch 20/20\n",
      " - 2s - loss: 0.1942 - acc: 0.9837 - binary_crossentropy: 0.1942 - val_loss: 0.4300 - val_acc: 0.8690 - val_binary_crossentropy: 0.4300\n"
     ]
    }
   ],
   "source": [
    "smaller_history = smaller_model.fit(train_data,\n",
    "                                    train_labels,\n",
    "                                    epochs=20,\n",
    "                                    batch_size=512,\n",
    "                                    validation_data=(test_data, test_labels),\n",
    "                                    verbose=2)"
   ]
  },
  {
   "cell_type": "code",
   "execution_count": 6,
   "metadata": {},
   "outputs": [
    {
     "name": "stdout",
     "output_type": "stream",
     "text": [
      "_________________________________________________________________\n",
      "Layer (type)                 Output Shape              Param #   \n",
      "=================================================================\n",
      "dense_3 (Dense)              (None, 512)               5120512   \n",
      "_________________________________________________________________\n",
      "dense_4 (Dense)              (None, 512)               262656    \n",
      "_________________________________________________________________\n",
      "dense_5 (Dense)              (None, 1)                 513       \n",
      "=================================================================\n",
      "Total params: 5,383,681\n",
      "Trainable params: 5,383,681\n",
      "Non-trainable params: 0\n",
      "_________________________________________________________________\n"
     ]
    }
   ],
   "source": [
    "bigger_model = keras.models.Sequential([\n",
    "    keras.layers.Dense(512, activation=tf.nn.relu, input_shape=(NUM_WORDS,)),\n",
    "    keras.layers.Dense(512, activation=tf.nn.relu),\n",
    "    keras.layers.Dense(1, activation=tf.nn.sigmoid)\n",
    "])\n",
    "\n",
    "bigger_model.compile(optimizer='adam',\n",
    "                     loss='binary_crossentropy',\n",
    "                     metrics=['accuracy','binary_crossentropy'])\n",
    "\n",
    "bigger_model.summary()"
   ]
  },
  {
   "cell_type": "code",
   "execution_count": 7,
   "metadata": {},
   "outputs": [
    {
     "name": "stdout",
     "output_type": "stream",
     "text": [
      "Train on 25000 samples, validate on 25000 samples\n",
      "Epoch 1/20\n",
      " - 3s - loss: 0.3574 - acc: 0.8404 - binary_crossentropy: 0.3574 - val_loss: 0.2838 - val_acc: 0.8858 - val_binary_crossentropy: 0.2838\n",
      "Epoch 2/20\n",
      " - 2s - loss: 0.1376 - acc: 0.9508 - binary_crossentropy: 0.1376 - val_loss: 0.3191 - val_acc: 0.8756 - val_binary_crossentropy: 0.3191\n",
      "Epoch 3/20\n",
      " - 2s - loss: 0.0400 - acc: 0.9888 - binary_crossentropy: 0.0400 - val_loss: 0.4359 - val_acc: 0.8704 - val_binary_crossentropy: 0.4359\n",
      "Epoch 4/20\n",
      " - 2s - loss: 0.0057 - acc: 0.9991 - binary_crossentropy: 0.0057 - val_loss: 0.5878 - val_acc: 0.8685 - val_binary_crossentropy: 0.5878\n",
      "Epoch 5/20\n",
      " - 2s - loss: 0.0015 - acc: 1.0000 - binary_crossentropy: 0.0015 - val_loss: 0.6707 - val_acc: 0.8719 - val_binary_crossentropy: 0.6707\n",
      "Epoch 6/20\n",
      " - 2s - loss: 2.1383e-04 - acc: 1.0000 - binary_crossentropy: 2.1383e-04 - val_loss: 0.7147 - val_acc: 0.8725 - val_binary_crossentropy: 0.7147\n",
      "Epoch 7/20\n",
      " - 2s - loss: 1.2363e-04 - acc: 1.0000 - binary_crossentropy: 1.2363e-04 - val_loss: 0.7422 - val_acc: 0.8728 - val_binary_crossentropy: 0.7422\n",
      "Epoch 8/20\n",
      " - 2s - loss: 8.8298e-05 - acc: 1.0000 - binary_crossentropy: 8.8298e-05 - val_loss: 0.7624 - val_acc: 0.8730 - val_binary_crossentropy: 0.7624\n",
      "Epoch 9/20\n",
      " - 2s - loss: 6.7848e-05 - acc: 1.0000 - binary_crossentropy: 6.7848e-05 - val_loss: 0.7793 - val_acc: 0.8730 - val_binary_crossentropy: 0.7793\n",
      "Epoch 10/20\n",
      " - 2s - loss: 5.4183e-05 - acc: 1.0000 - binary_crossentropy: 5.4183e-05 - val_loss: 0.7922 - val_acc: 0.8728 - val_binary_crossentropy: 0.7922\n",
      "Epoch 11/20\n",
      " - 2s - loss: 4.4577e-05 - acc: 1.0000 - binary_crossentropy: 4.4577e-05 - val_loss: 0.8038 - val_acc: 0.8727 - val_binary_crossentropy: 0.8038\n",
      "Epoch 12/20\n",
      " - 2s - loss: 3.7374e-05 - acc: 1.0000 - binary_crossentropy: 3.7374e-05 - val_loss: 0.8141 - val_acc: 0.8728 - val_binary_crossentropy: 0.8141\n",
      "Epoch 13/20\n",
      " - 2s - loss: 3.1881e-05 - acc: 1.0000 - binary_crossentropy: 3.1881e-05 - val_loss: 0.8228 - val_acc: 0.8731 - val_binary_crossentropy: 0.8228\n",
      "Epoch 14/20\n",
      " - 2s - loss: 2.7511e-05 - acc: 1.0000 - binary_crossentropy: 2.7511e-05 - val_loss: 0.8310 - val_acc: 0.8731 - val_binary_crossentropy: 0.8310\n",
      "Epoch 15/20\n",
      " - 2s - loss: 2.3998e-05 - acc: 1.0000 - binary_crossentropy: 2.3998e-05 - val_loss: 0.8388 - val_acc: 0.8731 - val_binary_crossentropy: 0.8388\n",
      "Epoch 16/20\n",
      " - 2s - loss: 2.1128e-05 - acc: 1.0000 - binary_crossentropy: 2.1128e-05 - val_loss: 0.8454 - val_acc: 0.8730 - val_binary_crossentropy: 0.8454\n",
      "Epoch 17/20\n",
      " - 2s - loss: 1.8729e-05 - acc: 1.0000 - binary_crossentropy: 1.8729e-05 - val_loss: 0.8516 - val_acc: 0.8730 - val_binary_crossentropy: 0.8516\n",
      "Epoch 18/20\n",
      " - 2s - loss: 1.6723e-05 - acc: 1.0000 - binary_crossentropy: 1.6723e-05 - val_loss: 0.8575 - val_acc: 0.8730 - val_binary_crossentropy: 0.8575\n",
      "Epoch 19/20\n",
      " - 2s - loss: 1.5006e-05 - acc: 1.0000 - binary_crossentropy: 1.5006e-05 - val_loss: 0.8633 - val_acc: 0.8731 - val_binary_crossentropy: 0.8633\n",
      "Epoch 20/20\n",
      " - 2s - loss: 1.3557e-05 - acc: 1.0000 - binary_crossentropy: 1.3557e-05 - val_loss: 0.8687 - val_acc: 0.8729 - val_binary_crossentropy: 0.8687\n"
     ]
    }
   ],
   "source": [
    "bigger_history = bigger_model.fit(train_data, train_labels,\n",
    "                                  epochs=20,\n",
    "                                  batch_size=512,\n",
    "                                  validation_data=(test_data, test_labels),\n",
    "                                  verbose=2)"
   ]
  },
  {
   "cell_type": "code",
   "execution_count": 10,
   "metadata": {},
   "outputs": [
    {
     "data": {
      "image/png": "[encoded data removed]",
      "text/plain": [
       "<Figure size 1152x720 with 1 Axes>"
      ]
     },
     "metadata": {
      "needs_background": "light"
     },
     "output_type": "display_data"
    }
   ],
   "source": [
    "def plot_history(histories, key='binary_crossentropy'):\n",
    "  plt.figure(figsize=(16,10))\n",
    "    \n",
    "  for name, history in histories:\n",
    "    val = plt.plot(history.epoch, history.history['val_'+key],\n",
    "                   '--', label=name.title()+' Val')\n",
    "    plt.plot(history.epoch, history.history[key], color=val[0].get_color(),\n",
    "             label=name.title()+' Train')\n",
    "\n",
    "  plt.xlabel('Epochs')\n",
    "  plt.ylabel(key.replace('_',' ').title())\n",
    "  plt.legend()\n",
    "\n",
    "  plt.xlim([0,max(history.epoch)])\n",
    "\n",
    "\n",
    "plot_history([#('baseline', baseline_history),\n",
    "              ('smaller', smaller_history),\n",
    "              ('bigger', bigger_history)])"
   ]
  },
  {
   "cell_type": "code",
   "execution_count": 11,
   "metadata": {},
   "outputs": [
    {
     "name": "stdout",
     "output_type": "stream",
     "text": [
      "Train on 25000 samples, validate on 25000 samples\n",
      "Epoch 1/20\n",
      " - 2s - loss: 0.5265 - acc: 0.8078 - binary_crossentropy: 0.4841 - val_loss: 0.3785 - val_acc: 0.8794 - val_binary_crossentropy: 0.3339\n",
      "Epoch 2/20\n",
      " - 2s - loss: 0.3020 - acc: 0.9087 - binary_crossentropy: 0.2534 - val_loss: 0.3358 - val_acc: 0.8885 - val_binary_crossentropy: 0.2844\n",
      "Epoch 3/20\n",
      " - 2s - loss: 0.2510 - acc: 0.9315 - binary_crossentropy: 0.1973 - val_loss: 0.3414 - val_acc: 0.8844 - val_binary_crossentropy: 0.2861\n",
      "Epoch 4/20\n",
      " - 2s - loss: 0.2301 - acc: 0.9407 - binary_crossentropy: 0.1734 - val_loss: 0.3563 - val_acc: 0.8811 - val_binary_crossentropy: 0.2985\n",
      "Epoch 5/20\n",
      " - 2s - loss: 0.2173 - acc: 0.9467 - binary_crossentropy: 0.1580 - val_loss: 0.3642 - val_acc: 0.8796 - val_binary_crossentropy: 0.3042\n",
      "Epoch 6/20\n",
      " - 2s - loss: 0.2044 - acc: 0.9528 - binary_crossentropy: 0.1438 - val_loss: 0.3793 - val_acc: 0.8738 - val_binary_crossentropy: 0.3182\n",
      "Epoch 7/20\n",
      " - 2s - loss: 0.1958 - acc: 0.9562 - binary_crossentropy: 0.1342 - val_loss: 0.3881 - val_acc: 0.8742 - val_binary_crossentropy: 0.3263\n",
      "Epoch 8/20\n",
      " - 2s - loss: 0.1911 - acc: 0.9576 - binary_crossentropy: 0.1287 - val_loss: 0.4038 - val_acc: 0.8704 - val_binary_crossentropy: 0.3410\n",
      "Epoch 9/20\n",
      " - 2s - loss: 0.1863 - acc: 0.9583 - binary_crossentropy: 0.1228 - val_loss: 0.4139 - val_acc: 0.8694 - val_binary_crossentropy: 0.3499\n",
      "Epoch 10/20\n",
      " - 2s - loss: 0.1827 - acc: 0.9598 - binary_crossentropy: 0.1181 - val_loss: 0.4258 - val_acc: 0.8676 - val_binary_crossentropy: 0.3607\n",
      "Epoch 11/20\n",
      " - 2s - loss: 0.1811 - acc: 0.9608 - binary_crossentropy: 0.1154 - val_loss: 0.4375 - val_acc: 0.8666 - val_binary_crossentropy: 0.3714\n",
      "Epoch 12/20\n",
      " - 2s - loss: 0.1733 - acc: 0.9639 - binary_crossentropy: 0.1071 - val_loss: 0.4479 - val_acc: 0.8648 - val_binary_crossentropy: 0.3818\n",
      "Epoch 13/20\n",
      " - 2s - loss: 0.1659 - acc: 0.9682 - binary_crossentropy: 0.0998 - val_loss: 0.4575 - val_acc: 0.8636 - val_binary_crossentropy: 0.3914\n",
      "Epoch 14/20\n",
      " - 2s - loss: 0.1617 - acc: 0.9687 - binary_crossentropy: 0.0956 - val_loss: 0.4661 - val_acc: 0.8628 - val_binary_crossentropy: 0.3998\n",
      "Epoch 15/20\n",
      " - 2s - loss: 0.1596 - acc: 0.9718 - binary_crossentropy: 0.0932 - val_loss: 0.4792 - val_acc: 0.8604 - val_binary_crossentropy: 0.4125\n",
      "Epoch 16/20\n",
      " - 2s - loss: 0.1555 - acc: 0.9717 - binary_crossentropy: 0.0887 - val_loss: 0.4874 - val_acc: 0.8602 - val_binary_crossentropy: 0.4204\n",
      "Epoch 17/20\n",
      " - 2s - loss: 0.1554 - acc: 0.9715 - binary_crossentropy: 0.0881 - val_loss: 0.5004 - val_acc: 0.8578 - val_binary_crossentropy: 0.4326\n",
      "Epoch 18/20\n",
      " - 2s - loss: 0.1530 - acc: 0.9736 - binary_crossentropy: 0.0848 - val_loss: 0.5108 - val_acc: 0.8592 - val_binary_crossentropy: 0.4423\n",
      "Epoch 19/20\n",
      " - 2s - loss: 0.1502 - acc: 0.9739 - binary_crossentropy: 0.0813 - val_loss: 0.5237 - val_acc: 0.8554 - val_binary_crossentropy: 0.4546\n",
      "Epoch 20/20\n",
      " - 2s - loss: 0.1471 - acc: 0.9757 - binary_crossentropy: 0.0779 - val_loss: 0.5300 - val_acc: 0.8555 - val_binary_crossentropy: 0.4606\n"
     ]
    }
   ],
   "source": [
    "l2_model = keras.models.Sequential([\n",
    "    keras.layers.Dense(16, kernel_regularizer=keras.regularizers.l2(0.001),\n",
    "                       activation=tf.nn.relu, input_shape=(NUM_WORDS,)),\n",
    "    keras.layers.Dense(16, kernel_regularizer=keras.regularizers.l2(0.001),\n",
    "                       activation=tf.nn.relu),\n",
    "    keras.layers.Dense(1, activation=tf.nn.sigmoid)\n",
    "])\n",
    "\n",
    "l2_model.compile(optimizer='adam',\n",
    "                 loss='binary_crossentropy',\n",
    "                 metrics=['accuracy', 'binary_crossentropy'])\n",
    "\n",
    "l2_model_history = l2_model.fit(train_data, train_labels,\n",
    "                                epochs=20,\n",
    "                                batch_size=512,\n",
    "                                validation_data=(test_data, test_labels),\n",
    "                                verbose=2)"
   ]
  },
  {
   "cell_type": "code",
   "execution_count": 12,
   "metadata": {},
   "outputs": [
    {
     "name": "stdout",
     "output_type": "stream",
     "text": [
      "Train on 25000 samples, validate on 25000 samples\n",
      "Epoch 1/20\n",
      " - 2s - loss: 0.6242 - acc: 0.6415 - binary_crossentropy: 0.6242 - val_loss: 0.4735 - val_acc: 0.8502 - val_binary_crossentropy: 0.4735\n",
      "Epoch 2/20\n",
      " - 2s - loss: 0.4448 - acc: 0.8159 - binary_crossentropy: 0.4448 - val_loss: 0.3298 - val_acc: 0.8830 - val_binary_crossentropy: 0.3298\n",
      "Epoch 3/20\n",
      " - 2s - loss: 0.3362 - acc: 0.8760 - binary_crossentropy: 0.3362 - val_loss: 0.2834 - val_acc: 0.8876 - val_binary_crossentropy: 0.2834\n",
      "Epoch 4/20\n",
      " - 2s - loss: 0.2795 - acc: 0.9042 - binary_crossentropy: 0.2795 - val_loss: 0.2763 - val_acc: 0.8879 - val_binary_crossentropy: 0.2763\n",
      "Epoch 5/20\n",
      " - 2s - loss: 0.2424 - acc: 0.9189 - binary_crossentropy: 0.2424 - val_loss: 0.2779 - val_acc: 0.8867 - val_binary_crossentropy: 0.2779\n",
      "Epoch 6/20\n",
      " - 2s - loss: 0.2098 - acc: 0.9323 - binary_crossentropy: 0.2098 - val_loss: 0.2886 - val_acc: 0.8854 - val_binary_crossentropy: 0.2886\n",
      "Epoch 7/20\n",
      " - 2s - loss: 0.1858 - acc: 0.9402 - binary_crossentropy: 0.1858 - val_loss: 0.3041 - val_acc: 0.8820 - val_binary_crossentropy: 0.3041\n",
      "Epoch 8/20\n",
      " - 2s - loss: 0.1612 - acc: 0.9470 - binary_crossentropy: 0.1612 - val_loss: 0.3254 - val_acc: 0.8808 - val_binary_crossentropy: 0.3254\n",
      "Epoch 9/20\n",
      " - 2s - loss: 0.1473 - acc: 0.9536 - binary_crossentropy: 0.1473 - val_loss: 0.3534 - val_acc: 0.8801 - val_binary_crossentropy: 0.3534\n",
      "Epoch 10/20\n",
      " - 2s - loss: 0.1319 - acc: 0.9574 - binary_crossentropy: 0.1319 - val_loss: 0.3676 - val_acc: 0.8792 - val_binary_crossentropy: 0.3676\n",
      "Epoch 11/20\n",
      " - 2s - loss: 0.1192 - acc: 0.9617 - binary_crossentropy: 0.1192 - val_loss: 0.3845 - val_acc: 0.8788 - val_binary_crossentropy: 0.3845\n",
      "Epoch 12/20\n",
      " - 2s - loss: 0.1078 - acc: 0.9671 - binary_crossentropy: 0.1078 - val_loss: 0.3851 - val_acc: 0.8766 - val_binary_crossentropy: 0.3851\n",
      "Epoch 13/20\n",
      " - 2s - loss: 0.1030 - acc: 0.9676 - binary_crossentropy: 0.1030 - val_loss: 0.4288 - val_acc: 0.8774 - val_binary_crossentropy: 0.4288\n",
      "Epoch 14/20\n",
      " - 2s - loss: 0.0943 - acc: 0.9708 - binary_crossentropy: 0.0943 - val_loss: 0.4543 - val_acc: 0.8759 - val_binary_crossentropy: 0.4543\n",
      "Epoch 15/20\n",
      " - 2s - loss: 0.0887 - acc: 0.9720 - binary_crossentropy: 0.0887 - val_loss: 0.4909 - val_acc: 0.8764 - val_binary_crossentropy: 0.4909\n",
      "Epoch 16/20\n",
      " - 2s - loss: 0.0855 - acc: 0.9724 - binary_crossentropy: 0.0855 - val_loss: 0.4807 - val_acc: 0.8758 - val_binary_crossentropy: 0.4807\n",
      "Epoch 17/20\n",
      " - 2s - loss: 0.0789 - acc: 0.9750 - binary_crossentropy: 0.0789 - val_loss: 0.4965 - val_acc: 0.8753 - val_binary_crossentropy: 0.4965\n",
      "Epoch 18/20\n",
      " - 2s - loss: 0.0727 - acc: 0.9759 - binary_crossentropy: 0.0727 - val_loss: 0.5358 - val_acc: 0.8747 - val_binary_crossentropy: 0.5358\n",
      "Epoch 19/20\n",
      " - 2s - loss: 0.0696 - acc: 0.9774 - binary_crossentropy: 0.0696 - val_loss: 0.5366 - val_acc: 0.8748 - val_binary_crossentropy: 0.5366\n",
      "Epoch 20/20\n",
      " - 2s - loss: 0.0676 - acc: 0.9782 - binary_crossentropy: 0.0676 - val_loss: 0.5739 - val_acc: 0.8743 - val_binary_crossentropy: 0.5739\n"
     ]
    }
   ],
   "source": [
    "dpt_model = keras.models.Sequential([\n",
    "    keras.layers.Dense(16, activation=tf.nn.relu, input_shape=(NUM_WORDS,)),\n",
    "    keras.layers.Dropout(0.5),\n",
    "    keras.layers.Dense(16, activation=tf.nn.relu),\n",
    "    keras.layers.Dropout(0.5),\n",
    "    keras.layers.Dense(1, activation=tf.nn.sigmoid)\n",
    "])\n",
    "\n",
    "dpt_model.compile(optimizer='adam',\n",
    "                  loss='binary_crossentropy',\n",
    "                  metrics=['accuracy','binary_crossentropy'])\n",
    "\n",
    "dpt_model_history = dpt_model.fit(train_data, train_labels,\n",
    "                                  epochs=20,\n",
    "                                  batch_size=512,\n",
    "                                  validation_data=(test_data, test_labels),\n",
    "                                  verbose=2)"
   ]
  },
  {
   "cell_type": "code",
   "execution_count": null,
   "metadata": {},
   "outputs": [],
   "source": []
  }
 ],
 "metadata": {
  "kernelspec": {
   "display_name": "Python 3",
   "language": "python",
   "name": "python3"
  },
  "language_info": {
   "codemirror_mode": {
    "name": "ipython",
    "version": 3
   },
   "file_extension": ".py",
   "mimetype": "text/x-python",
   "name": "python",
   "nbconvert_exporter": "python",
   "pygments_lexer": "ipython3",
   "version": "3.6.6"
  }
 },
 "nbformat": 4,
 "nbformat_minor": 2
}
