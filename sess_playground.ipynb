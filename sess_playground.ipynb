{
 "cells": [
  {
   "cell_type": "markdown",
   "metadata": {},
   "source": [
    " - placeholders"
   ]
  },
  {
   "cell_type": "code",
   "execution_count": 1,
   "metadata": {},
   "outputs": [],
   "source": [
    "import tensorflow as tf"
   ]
  },
  {
   "cell_type": "code",
   "execution_count": 2,
   "metadata": {},
   "outputs": [],
   "source": [
    "x,y = tf.placeholder(tf.int32, shape=[3],name='x'),tf.placeholder(tf.int32, shape=[3],name='y')"
   ]
  },
  {
   "cell_type": "code",
   "execution_count": 3,
   "metadata": {},
   "outputs": [],
   "source": [
    "sx = tf.reduce_sum(x,name=\"sx\")\n",
    "py = tf.reduce_prod(y,name=\"py\")\n",
    "d = tf.div(sx,py, name=\"d\")\n",
    "m = tf.reduce_mean([sx, py], name=\"m\")"
   ]
  },
  {
   "cell_type": "code",
   "execution_count": 4,
   "metadata": {},
   "outputs": [],
   "source": [
    "sess = tf.Session()"
   ]
  },
  {
   "cell_type": "code",
   "execution_count": 5,
   "metadata": {},
   "outputs": [
    {
     "name": "stdout",
     "output_type": "stream",
     "text": [
      "sum(x):  600\n",
      "prod(y):  6\n"
     ]
    }
   ],
   "source": [
    "print (\"sum(x): \", sess.run(sx, feed_dict={x: [100,200,300]}))\n",
    "print (\"prod(y): \", sess.run(py, feed_dict={y: [1,2,3]}))"
   ]
  },
  {
   "cell_type": "code",
   "execution_count": 7,
   "metadata": {},
   "outputs": [],
   "source": [
    "w = tf.summary.FileWriter('./tf_1',sess.graph)\n",
    "w.close()\n",
    "sess.close()"
   ]
  },
  {
   "cell_type": "markdown",
   "metadata": {},
   "source": [
    " - fetches"
   ]
  },
  {
   "cell_type": "code",
   "execution_count": 8,
   "metadata": {},
   "outputs": [],
   "source": [
    "import tensorflow as tf"
   ]
  },
  {
   "cell_type": "code",
   "execution_count": 9,
   "metadata": {},
   "outputs": [],
   "source": [
    "W = tf.constant([10,100],name='const_W')"
   ]
  },
  {
   "cell_type": "code",
   "execution_count": 10,
   "metadata": {},
   "outputs": [],
   "source": [
    "x = tf.placeholder(tf.int32,name='x')\n",
    "b = tf.placeholder(tf.int32,name='b')"
   ]
  },
  {
   "cell_type": "code",
   "execution_count": 11,
   "metadata": {},
   "outputs": [],
   "source": [
    "Wx = tf.multiply(W,x,name='Wx')\n",
    "y = tf.add(Wx,b,name='y')"
   ]
  },
  {
   "cell_type": "code",
   "execution_count": 12,
   "metadata": {},
   "outputs": [
    {
     "name": "stdout",
     "output_type": "stream",
     "text": [
      "Intermediate result Wx:  [  30 3300]\n",
      "Final results y:  [  57 5009]\n"
     ]
    }
   ],
   "source": [
    "with tf.Session() as sess:\n",
    "    print( \"Intermediate result Wx: \", sess.run(Wx, feed_dict={x: [3,33]}))\n",
    "    print( \"Final results y: \",sess.run(y, feed_dict={x:[5,50],b:[7,9]}))"
   ]
  },
  {
   "cell_type": "code",
   "execution_count": 13,
   "metadata": {},
   "outputs": [],
   "source": [
    "\n",
    "writer = tf.summary.FileWriter('./fetchesAndFeed',sess.graph)\n",
    "writer.close()"
   ]
  },
  {
   "cell_type": "markdown",
   "metadata": {},
   "source": [
    " - variables"
   ]
  },
  {
   "cell_type": "code",
   "execution_count": 14,
   "metadata": {},
   "outputs": [],
   "source": [
    "import tensorflow as tf"
   ]
  },
  {
   "cell_type": "code",
   "execution_count": 16,
   "metadata": {},
   "outputs": [],
   "source": [
    "W = tf.Variable([2.5,4.0],tf.float32, name='var_W')\n",
    "#here W is a Variable\n",
    "x = tf.placeholder(tf.float32, name='x')\n",
    "b = tf.Variable([5.0,10.0],tf.float32, name='var_b')\n",
    "#b is also a variable with initial value 5 and 10\n",
    "y = W * x + b"
   ]
  },
  {
   "cell_type": "code",
   "execution_count": 17,
   "metadata": {},
   "outputs": [
    {
     "name": "stdout",
     "output_type": "stream",
     "text": [
      "Final result: Wx + b =  [ 30. 410.]\n"
     ]
    }
   ],
   "source": [
    "#initialize all variables defined\n",
    "init = tf.global_variables_initializer()\n",
    "with tf.Session() as sess:\n",
    "    sess.run(init)\n",
    "    #this computation is required to initialize the variable\n",
    "    print(\"Final result: Wx + b = \", sess.run(y,feed_dict={x:[10,100]}))"
   ]
  },
  {
   "cell_type": "code",
   "execution_count": 18,
   "metadata": {},
   "outputs": [],
   "source": [
    "# changing values \n",
    "number = tf.Variable(2)\n",
    "multiplier = tf.Variable(1)"
   ]
  },
  {
   "cell_type": "code",
   "execution_count": 19,
   "metadata": {},
   "outputs": [],
   "source": [
    "init = tf.global_variables_initializer()\n",
    "result = number.assign(tf.multiply(number,multiplier))\n"
   ]
  },
  {
   "cell_type": "code",
   "execution_count": 22,
   "metadata": {},
   "outputs": [
    {
     "name": "stdout",
     "output_type": "stream",
     "text": [
      "Result number * multiplier =  2\n",
      "Increment multiplier, new value =  2\n",
      "Result number * multiplier =  4\n",
      "Increment multiplier, new value =  3\n",
      "Result number * multiplier =  12\n",
      "Increment multiplier, new value =  4\n",
      "Result number * multiplier =  48\n",
      "Increment multiplier, new value =  5\n",
      "Result number * multiplier =  240\n",
      "Increment multiplier, new value =  6\n",
      "Result number * multiplier =  1440\n",
      "Increment multiplier, new value =  7\n",
      "Result number * multiplier =  10080\n",
      "Increment multiplier, new value =  8\n",
      "Result number * multiplier =  80640\n",
      "Increment multiplier, new value =  9\n",
      "Result number * multiplier =  725760\n",
      "Increment multiplier, new value =  10\n",
      "Result number * multiplier =  7257600\n",
      "Increment multiplier, new value =  11\n"
     ]
    }
   ],
   "source": [
    "with tf.Session() as sess:\n",
    "    sess.run(init)\n",
    "    for i in range(10):\n",
    "        print(\"Result number * multiplier = \",sess.run(result))\n",
    "        print(\"Increment multiplier, new value = \",sess.run(multiplier.assign_add(1)))"
   ]
  },
  {
   "cell_type": "markdown",
   "metadata": {},
   "source": [
    " - multiple graphs"
   ]
  },
  {
   "cell_type": "code",
   "execution_count": 30,
   "metadata": {},
   "outputs": [
    {
     "name": "stdout",
     "output_type": "stream",
     "text": [
      "[ 53 704]\n",
      "[  125 16807]\n",
      "[ 8 12]\n"
     ]
    }
   ],
   "source": [
    "import tensorflow as tf\n",
    "g1 = tf.Graph()\n",
    "'''set g1 as default to add tensors to this graph using default methord'''\n",
    "with g1.as_default():\n",
    " with tf.Session() as sess:\n",
    "  A = tf.constant([5,7],tf.int32, name='A')\n",
    "  x = tf.placeholder(tf.int32, name='x')\n",
    "  b = tf.constant([3,4],tf.int32, name='b')\n",
    "  y = A * x + b\n",
    "  print( sess.run(y, feed_dict={x: [10,100]}))\n",
    "assert y.graph is g1\n",
    "g2 = tf.Graph()\n",
    "with g2.as_default():\n",
    " with tf.Session() as sess:\n",
    "  A = tf.constant([5,7],tf.int32, name='A')\n",
    "  x = tf.placeholder(tf.int32, name='x')\n",
    "  y = tf.pow(A,x,name='y')\n",
    "  print( sess.run(y, feed_dict={x: [3,5]}))\n",
    "  assert y.graph is g2\n",
    "'''same way you can access defaut graph '''\n",
    "default_graph = tf.get_default_graph()\n",
    "with tf.Session() as sess:\n",
    " A = tf.constant([5,7],tf.int32, name='A')\n",
    " x = tf.placeholder(tf.int32, name='x')\n",
    " y = A + x\n",
    " print(sess.run(y, feed_dict={x: [3,5]}))\n",
    "assert y.graph is default_graph"
   ]
  },
  {
   "cell_type": "markdown",
   "metadata": {},
   "source": [
    " - named scope"
   ]
  },
  {
   "cell_type": "code",
   "execution_count": 32,
   "metadata": {},
   "outputs": [
    {
     "name": "stdout",
     "output_type": "stream",
     "text": [
      "[1244]\n"
     ]
    }
   ],
   "source": [
    "import tensorflow as tf\n",
    "A = tf.constant([4], tf.int32, name='A')\n",
    "B = tf.constant([4], tf.int32, name='B')\n",
    "C = tf.constant([4], tf.int32, name='C')\n",
    "x = tf.placeholder(tf.int32, name='x')\n",
    "# y = Ax^2 + Bx + C\n",
    "Ax2_1 = tf.multiply(A, tf.pow(x,2), name=\"Ax2_1\")\n",
    "Bx = tf.multiply(A,x, name=\"Bx\")\n",
    "y1 = tf.add_n([Ax2_1, Bx, C], name='y1')\n",
    "# y = Ax^2 + Bx^2\n",
    "Ax2_2 = tf.multiply(A, tf.pow(x,2),name='Ax2_2')\n",
    "Bx2 = tf.multiply(B, tf.pow(x,2),name='Bx2')\n",
    "y2 = tf.add_n([Ax2_2,Bx2],name='y2')\n",
    "y = y1 + y2\n",
    "with tf.Session() as sess:\n",
    " print(sess.run(y, feed_dict={x:[10]}))\n",
    " writer = tf.summary.FileWriter('./named_scope',sess.graph)\n",
    " writer.close()"
   ]
  },
  {
   "cell_type": "code",
   "execution_count": null,
   "metadata": {},
   "outputs": [],
   "source": []
  }
 ],
 "metadata": {
  "kernelspec": {
   "display_name": "Python 3",
   "language": "python",
   "name": "python3"
  },
  "language_info": {
   "codemirror_mode": {
    "name": "ipython",
    "version": 3
   },
   "file_extension": ".py",
   "mimetype": "text/x-python",
   "name": "python",
   "nbconvert_exporter": "python",
   "pygments_lexer": "ipython3",
   "version": "3.6.6"
  }
 },
 "nbformat": 4,
 "nbformat_minor": 2
}
